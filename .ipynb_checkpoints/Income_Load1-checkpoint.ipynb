{
 "cells": [
  {
   "cell_type": "code",
   "execution_count": 1,
   "metadata": {},
   "outputs": [],
   "source": [
    "import pymongo"
   ]
  },
  {
   "cell_type": "code",
   "execution_count": 2,
   "metadata": {},
   "outputs": [],
   "source": [
    "client = pymongo.MongoClient('localhost',27017)"
   ]
  },
  {
   "cell_type": "code",
   "execution_count": 3,
   "metadata": {},
   "outputs": [],
   "source": [
    "db = client['chapter3']"
   ]
  },
  {
   "cell_type": "code",
   "execution_count": 4,
   "metadata": {},
   "outputs": [],
   "source": [
    "collection = db['income']"
   ]
  },
  {
   "cell_type": "code",
   "execution_count": 5,
   "metadata": {},
   "outputs": [],
   "source": [
    "with open('income_header.txt') as f_in:\n",
    "    columns_headings = f_in.readline()"
   ]
  },
  {
   "cell_type": "code",
   "execution_count": 6,
   "metadata": {},
   "outputs": [
    {
     "data": {
      "text/plain": [
       "'age,workclass,fnlwgt,education,education-num,marital-status,occupation,relationship,race,sex,capital-gain,capital-loss,hours-per-week,native-country,label'"
      ]
     },
     "execution_count": 6,
     "metadata": {},
     "output_type": "execute_result"
    }
   ],
   "source": [
    "columns_headings"
   ]
  },
  {
   "cell_type": "code",
   "execution_count": 7,
   "metadata": {},
   "outputs": [],
   "source": [
    "columns_headings_list = columns_headings.split(',')"
   ]
  },
  {
   "cell_type": "code",
   "execution_count": 8,
   "metadata": {},
   "outputs": [
    {
     "data": {
      "text/plain": [
       "['age',\n",
       " 'workclass',\n",
       " 'fnlwgt',\n",
       " 'education',\n",
       " 'education-num',\n",
       " 'marital-status',\n",
       " 'occupation',\n",
       " 'relationship',\n",
       " 'race',\n",
       " 'sex',\n",
       " 'capital-gain',\n",
       " 'capital-loss',\n",
       " 'hours-per-week',\n",
       " 'native-country',\n",
       " 'label']"
      ]
     },
     "execution_count": 8,
     "metadata": {},
     "output_type": "execute_result"
    }
   ],
   "source": [
    "columns_headings_list"
   ]
  },
  {
   "cell_type": "code",
   "execution_count": 9,
   "metadata": {},
   "outputs": [],
   "source": [
    "row_dict_list = list()\n",
    "with open('income.txt') as f_in:\n",
    "    for line in f_in:\n",
    "        row_list = line.rstrip('\\n').split(',')\n",
    "        row_dict = dict(zip(columns_headings_list, row_list))\n",
    "        row_dict_list.append(row_dict)\n",
    "        collection.insert_one(row_dict)"
   ]
  },
  {
   "cell_type": "code",
   "execution_count": 10,
   "metadata": {},
   "outputs": [
    {
     "data": {
      "text/plain": [
       "65124"
      ]
     },
     "execution_count": 10,
     "metadata": {},
     "output_type": "execute_result"
    }
   ],
   "source": [
    "collection.count_documents({})"
   ]
  },
  {
   "cell_type": "code",
   "execution_count": 11,
   "metadata": {},
   "outputs": [],
   "source": [
    "age39 = collection.find_one({'age':39})"
   ]
  },
  {
   "cell_type": "code",
   "execution_count": 12,
   "metadata": {},
   "outputs": [],
   "source": [
    "age39"
   ]
  },
  {
   "cell_type": "code",
   "execution_count": 13,
   "metadata": {},
   "outputs": [
    {
     "data": {
      "text/plain": [
       "{'age': '39',\n",
       " 'workclass': ' State-gov',\n",
       " 'fnlwgt': ' 77516',\n",
       " 'education': ' Bachelors',\n",
       " 'education-num': ' 13',\n",
       " 'marital-status': ' Never-married',\n",
       " 'occupation': ' Adm-clerical',\n",
       " 'relationship': ' Not-in-family',\n",
       " 'race': ' White',\n",
       " 'sex': ' Male',\n",
       " 'capital-gain': ' 2174',\n",
       " 'capital-loss': ' 0',\n",
       " 'hours-per-week': ' 40',\n",
       " 'native-country': ' United-States',\n",
       " 'label': ' <=50K',\n",
       " '_id': ObjectId('628f12598e588b00968c84a2')}"
      ]
     },
     "execution_count": 13,
     "metadata": {},
     "output_type": "execute_result"
    }
   ],
   "source": [
    "row_dict_list[0]"
   ]
  },
  {
   "cell_type": "code",
   "execution_count": 14,
   "metadata": {},
   "outputs": [
    {
     "data": {
      "text/plain": [
       "{'_id': ObjectId('628f10d7b68831bacb7a3a31'),\n",
       " 'age': '39',\n",
       " 'workclass': ' State-gov',\n",
       " 'fnlwgt': ' 77516',\n",
       " 'education': ' Bachelors',\n",
       " 'education-num': ' 13',\n",
       " 'marital-status': ' Never-married',\n",
       " 'occupation': ' Adm-clerical',\n",
       " 'relationship': ' Not-in-family',\n",
       " 'race': ' White',\n",
       " 'sex': ' Male',\n",
       " 'capital-gain': ' 2174',\n",
       " 'capital-loss': ' 0',\n",
       " 'hours-per-week': ' 40',\n",
       " 'native-country': ' United-States',\n",
       " 'label': ' <=50K'}"
      ]
     },
     "execution_count": 14,
     "metadata": {},
     "output_type": "execute_result"
    }
   ],
   "source": [
    "collection.find_one({})"
   ]
  },
  {
   "cell_type": "code",
   "execution_count": 15,
   "metadata": {},
   "outputs": [],
   "source": [
    "collection.delete_many({})\n",
    "with open('income.txt') as f_in:\n",
    "    for line in f_in:\n",
    "        row_list = line.rstrip('\\n').split(',')\n",
    "        row_dict = dict(zip(columns_headings_list, row_list))\n",
    "        try:\n",
    "            row_dict['age'] = int(row_dict['age'])\n",
    "            collection.insert_one(row_dict)\n",
    "        except:\n",
    "            pass"
   ]
  },
  {
   "cell_type": "code",
   "execution_count": 16,
   "metadata": {},
   "outputs": [],
   "source": [
    "over_35 = collection.find({'age': {\"$gt\" : 35}})"
   ]
  },
  {
   "cell_type": "code",
   "execution_count": 17,
   "metadata": {},
   "outputs": [
    {
     "data": {
      "text/plain": [
       "pymongo.cursor.Cursor"
      ]
     },
     "execution_count": 17,
     "metadata": {},
     "output_type": "execute_result"
    }
   ],
   "source": [
    "type(over_35)"
   ]
  },
  {
   "cell_type": "code",
   "execution_count": 18,
   "metadata": {},
   "outputs": [
    {
     "data": {
      "text/plain": [
       "{'_id': ObjectId('628f13e38e588b00968d03d4'),\n",
       " 'age': 39,\n",
       " 'workclass': ' State-gov',\n",
       " 'fnlwgt': ' 77516',\n",
       " 'education': ' Bachelors',\n",
       " 'education-num': ' 13',\n",
       " 'marital-status': ' Never-married',\n",
       " 'occupation': ' Adm-clerical',\n",
       " 'relationship': ' Not-in-family',\n",
       " 'race': ' White',\n",
       " 'sex': ' Male',\n",
       " 'capital-gain': ' 2174',\n",
       " 'capital-loss': ' 0',\n",
       " 'hours-per-week': ' 40',\n",
       " 'native-country': ' United-States',\n",
       " 'label': ' <=50K'}"
      ]
     },
     "execution_count": 18,
     "metadata": {},
     "output_type": "execute_result"
    }
   ],
   "source": [
    "over_35.next()"
   ]
  },
  {
   "cell_type": "code",
   "execution_count": 32,
   "metadata": {},
   "outputs": [
    {
     "data": {
      "text/plain": [
       "17636"
      ]
     },
     "execution_count": 32,
     "metadata": {},
     "output_type": "execute_result"
    }
   ],
   "source": [
    "collection.count_documents({'age': {\"$gt\" : 35}})"
   ]
  },
  {
   "cell_type": "code",
   "execution_count": 33,
   "metadata": {},
   "outputs": [],
   "source": [
    "import time"
   ]
  },
  {
   "cell_type": "code",
   "execution_count": 34,
   "metadata": {},
   "outputs": [
    {
     "name": "stdout",
     "output_type": "stream",
     "text": [
      "0.0\n"
     ]
    }
   ],
   "source": [
    "start = time.time()\n",
    "age50 = collection.find({'age':{\"$eq:50\"}})\n",
    "end = time.time()\n",
    "print(end-start)"
   ]
  },
  {
   "cell_type": "code",
   "execution_count": 35,
   "metadata": {},
   "outputs": [],
   "source": [
    "index_result = db.profiles.create_index([('age',pymongo.ASCENDING)],unique=False)"
   ]
  },
  {
   "cell_type": "code",
   "execution_count": 36,
   "metadata": {},
   "outputs": [
    {
     "name": "stdout",
     "output_type": "stream",
     "text": [
      "0.0\n"
     ]
    }
   ],
   "source": [
    "start = time.time()\n",
    "age45 = collection.find({'age':{\"$eq:45\"}})\n",
    "end = time.time()\n",
    "print(end-start)"
   ]
  },
  {
   "cell_type": "code",
   "execution_count": null,
   "metadata": {},
   "outputs": [],
   "source": []
  }
 ],
 "metadata": {
  "kernelspec": {
   "display_name": "Python 3",
   "language": "python",
   "name": "python3"
  },
  "language_info": {
   "codemirror_mode": {
    "name": "ipython",
    "version": 3
   },
   "file_extension": ".py",
   "mimetype": "text/x-python",
   "name": "python",
   "nbconvert_exporter": "python",
   "pygments_lexer": "ipython3",
   "version": "3.8.3"
  }
 },
 "nbformat": 4,
 "nbformat_minor": 1
}
